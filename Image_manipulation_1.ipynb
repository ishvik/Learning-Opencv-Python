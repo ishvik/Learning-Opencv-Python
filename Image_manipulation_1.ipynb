{
 "cells": [
  {
   "cell_type": "markdown",
   "metadata": {},
   "source": [
    "# Translation"
   ]
  },
  {
   "cell_type": "code",
   "execution_count": 5,
   "metadata": {},
   "outputs": [],
   "source": [
    "import cv2\n",
    "import numpy as np\n",
    "\n",
    "pic = cv2.imread(\"cvimg.jpg\")\n",
    "\n",
    "height,width = pic.shape[:2]\n",
    "tx,ty = height/4,width/4\n",
    "\n",
    "T = np.float32([[1,0,tx],[0,1,ty]])\n",
    "\n",
    "translate_pic = cv2.warpAffine(pic,T,(width,height))\n",
    "cv2.imshow(\"Translation\",translate_pic)\n",
    "cv2.waitKey(0)\n",
    "cv2.destroyAllWindows()"
   ]
  },
  {
   "cell_type": "markdown",
   "metadata": {},
   "source": [
    "# Rotation"
   ]
  },
  {
   "cell_type": "code",
   "execution_count": 7,
   "metadata": {},
   "outputs": [],
   "source": [
    "import cv2\n",
    "import numpy as np\n",
    "\n",
    "pic = cv2.imread(\"cvimg.jpg\")\n",
    "\n",
    "height,width = pic.shape[:2]\n",
    "center_x,center_y = height/2,width/2\n",
    "\n",
    "R = cv2.getRotationMatrix2D((center_x,center_y),45,1)\n",
    "rotated_pic = cv2.warpAffine(pic,R,(width,height))\n",
    "\n",
    "cv2.imshow(\"Rotation\",rotated_pic)\n",
    "cv2.waitKey(0)\n",
    "cv2.destroyAllWindows()"
   ]
  },
  {
   "cell_type": "code",
   "execution_count": 9,
   "metadata": {},
   "outputs": [],
   "source": [
    "##rotate by 90degree angle\n",
    "rm = cv2.transpose(pic)\n",
    "\n",
    "cv2.imshow(\"Transpose-Rotation\",rm)\n",
    "cv2.waitKey(0)\n",
    "cv2.destroyAllWindows()"
   ]
  },
  {
   "cell_type": "code",
   "execution_count": null,
   "metadata": {},
   "outputs": [],
   "source": []
  }
 ],
 "metadata": {
  "kernelspec": {
   "display_name": "Python 3",
   "language": "python",
   "name": "python3"
  },
  "language_info": {
   "codemirror_mode": {
    "name": "ipython",
    "version": 3
   },
   "file_extension": ".py",
   "mimetype": "text/x-python",
   "name": "python",
   "nbconvert_exporter": "python",
   "pygments_lexer": "ipython3",
   "version": "3.7.6"
  }
 },
 "nbformat": 4,
 "nbformat_minor": 4
}
