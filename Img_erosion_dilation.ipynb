{
 "cells": [
  {
   "cell_type": "code",
   "execution_count": 10,
   "metadata": {},
   "outputs": [
    {
     "data": {
      "text/plain": [
       "-1"
      ]
     },
     "execution_count": 10,
     "metadata": {},
     "output_type": "execute_result"
    }
   ],
   "source": [
    "# Python program to demonstrate erosion and  \n",
    "# dilation of images. \n",
    "import cv2 \n",
    "import numpy as np \n",
    "import matplotlib.pyplot as plt\n",
    "  \n",
    "# Reading the input image \n",
    "img = cv2.imread('cameras-using-OpenCV.jpg', 0) \n",
    "  \n",
    "# Taking a matrix of size 5 as the kernel \n",
    "kernel = np.ones((5,5), np.uint8) \n",
    "  \n",
    "# The first parameter is the original image, \n",
    "# kernel is the matrix with which image is  \n",
    "# convolved and third parameter is the number  \n",
    "# of iterations, which will determine how much  \n",
    "# you want to erode/dilate a given image.  \n",
    "img_erosion = cv2.erode(img, kernel, iterations=1) \n",
    "img_dilation = cv2.dilate(img, kernel, iterations=1) \n",
    "  \n",
    "cv2.imshow('Input', img) \n",
    "cv2.imshow('Erosion', img_erosion) \n",
    "cv2.imshow('Dilation', img_dilation) \n",
    "\n",
    "cv2.waitKey(0) "
   ]
  },
  {
   "cell_type": "code",
   "execution_count": null,
   "metadata": {},
   "outputs": [],
   "source": []
  }
 ],
 "metadata": {
  "kernelspec": {
   "display_name": "Python 3",
   "language": "python",
   "name": "python3"
  },
  "language_info": {
   "codemirror_mode": {
    "name": "ipython",
    "version": 3
   },
   "file_extension": ".py",
   "mimetype": "text/x-python",
   "name": "python",
   "nbconvert_exporter": "python",
   "pygments_lexer": "ipython3",
   "version": "3.7.6"
  }
 },
 "nbformat": 4,
 "nbformat_minor": 4
}
